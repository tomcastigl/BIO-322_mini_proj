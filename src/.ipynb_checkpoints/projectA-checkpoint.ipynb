{
 "cells": [
  {
   "cell_type": "markdown",
   "metadata": {},
   "source": [
    "## BIO322 MINI PROJECT A (Thomas Castiglione)\n"
   ]
  },
  {
   "cell_type": "markdown",
   "metadata": {},
   "source": [
    "**1. Exploration**\n"
   ]
  },
  {
   "cell_type": "markdown",
   "metadata": {},
   "source": [
    "We first load and take a look at the training data:"
   ]
  },
  {
   "cell_type": "code",
   "execution_count": 1,
   "metadata": {},
   "outputs": [],
   "source": [
    "data<-read.csv(file.path(\"..\", \"data\",\"training_data.csv\"))"
   ]
  },
  {
   "cell_type": "code",
   "execution_count": 2,
   "metadata": {},
   "outputs": [
    {
     "data": {
      "text/html": [
       "<table>\n",
       "<caption>A data.frame: 6 × 11789</caption>\n",
       "<thead>\n",
       "\t<tr><th></th><th scope=col>Intensity</th><th scope=col>VALENCE.PLEASANTNESS</th><th scope=col>SWEETORSOUR</th><th scope=col>V2</th><th scope=col>V3</th><th scope=col>V4</th><th scope=col>V5</th><th scope=col>V6</th><th scope=col>V7</th><th scope=col>V8</th><th scope=col>...</th><th scope=col>V11778</th><th scope=col>V11779</th><th scope=col>V11780</th><th scope=col>V11781</th><th scope=col>V11782</th><th scope=col>V11783</th><th scope=col>V11784</th><th scope=col>V11785</th><th scope=col>V11786</th><th scope=col>V11787</th></tr>\n",
       "\t<tr><th></th><th scope=col>&lt;chr&gt;</th><th scope=col>&lt;int&gt;</th><th scope=col>&lt;lgl&gt;</th><th scope=col>&lt;int&gt;</th><th scope=col>&lt;int&gt;</th><th scope=col>&lt;int&gt;</th><th scope=col>&lt;int&gt;</th><th scope=col>&lt;int&gt;</th><th scope=col>&lt;int&gt;</th><th scope=col>&lt;int&gt;</th><th scope=col>...</th><th scope=col>&lt;int&gt;</th><th scope=col>&lt;int&gt;</th><th scope=col>&lt;int&gt;</th><th scope=col>&lt;int&gt;</th><th scope=col>&lt;int&gt;</th><th scope=col>&lt;int&gt;</th><th scope=col>&lt;int&gt;</th><th scope=col>&lt;int&gt;</th><th scope=col>&lt;int&gt;</th><th scope=col>&lt;int&gt;</th></tr>\n",
       "</thead>\n",
       "<tbody>\n",
       "\t<tr><th scope=row>1</th><td>high</td><td>11</td><td>FALSE</td><td>0</td><td>1</td><td>1</td><td>1</td><td>1</td><td>1</td><td>1</td><td>...</td><td>0</td><td>0</td><td>0</td><td>0</td><td>0</td><td>0</td><td>0</td><td>0</td><td>0</td><td>0</td></tr>\n",
       "\t<tr><th scope=row>2</th><td>high</td><td>75</td><td> TRUE</td><td>0</td><td>1</td><td>1</td><td>1</td><td>1</td><td>1</td><td>1</td><td>...</td><td>0</td><td>0</td><td>0</td><td>0</td><td>0</td><td>0</td><td>0</td><td>0</td><td>0</td><td>0</td></tr>\n",
       "\t<tr><th scope=row>3</th><td>low </td><td>62</td><td> TRUE</td><td>0</td><td>1</td><td>1</td><td>1</td><td>1</td><td>1</td><td>1</td><td>...</td><td>0</td><td>0</td><td>0</td><td>0</td><td>0</td><td>0</td><td>0</td><td>0</td><td>0</td><td>0</td></tr>\n",
       "\t<tr><th scope=row>4</th><td>low </td><td>39</td><td>FALSE</td><td>0</td><td>1</td><td>1</td><td>1</td><td>1</td><td>1</td><td>1</td><td>...</td><td>0</td><td>0</td><td>0</td><td>0</td><td>0</td><td>0</td><td>0</td><td>0</td><td>0</td><td>0</td></tr>\n",
       "\t<tr><th scope=row>5</th><td>low </td><td>55</td><td>FALSE</td><td>0</td><td>1</td><td>1</td><td>1</td><td>1</td><td>1</td><td>1</td><td>...</td><td>0</td><td>0</td><td>0</td><td>0</td><td>0</td><td>0</td><td>0</td><td>0</td><td>0</td><td>0</td></tr>\n",
       "\t<tr><th scope=row>6</th><td>low </td><td>47</td><td>FALSE</td><td>0</td><td>1</td><td>1</td><td>1</td><td>1</td><td>1</td><td>1</td><td>...</td><td>0</td><td>0</td><td>0</td><td>0</td><td>0</td><td>0</td><td>0</td><td>0</td><td>0</td><td>0</td></tr>\n",
       "</tbody>\n",
       "</table>\n"
      ],
      "text/latex": [
       "A data.frame: 6 × 11789\n",
       "\\begin{tabular}{r|lllllllllllllllllllll}\n",
       "  & Intensity & VALENCE.PLEASANTNESS & SWEETORSOUR & V2 & V3 & V4 & V5 & V6 & V7 & V8 & ... & V11778 & V11779 & V11780 & V11781 & V11782 & V11783 & V11784 & V11785 & V11786 & V11787\\\\\n",
       "  & <chr> & <int> & <lgl> & <int> & <int> & <int> & <int> & <int> & <int> & <int> & ... & <int> & <int> & <int> & <int> & <int> & <int> & <int> & <int> & <int> & <int>\\\\\n",
       "\\hline\n",
       "\t1 & high & 11 & FALSE & 0 & 1 & 1 & 1 & 1 & 1 & 1 & ... & 0 & 0 & 0 & 0 & 0 & 0 & 0 & 0 & 0 & 0\\\\\n",
       "\t2 & high & 75 &  TRUE & 0 & 1 & 1 & 1 & 1 & 1 & 1 & ... & 0 & 0 & 0 & 0 & 0 & 0 & 0 & 0 & 0 & 0\\\\\n",
       "\t3 & low  & 62 &  TRUE & 0 & 1 & 1 & 1 & 1 & 1 & 1 & ... & 0 & 0 & 0 & 0 & 0 & 0 & 0 & 0 & 0 & 0\\\\\n",
       "\t4 & low  & 39 & FALSE & 0 & 1 & 1 & 1 & 1 & 1 & 1 & ... & 0 & 0 & 0 & 0 & 0 & 0 & 0 & 0 & 0 & 0\\\\\n",
       "\t5 & low  & 55 & FALSE & 0 & 1 & 1 & 1 & 1 & 1 & 1 & ... & 0 & 0 & 0 & 0 & 0 & 0 & 0 & 0 & 0 & 0\\\\\n",
       "\t6 & low  & 47 & FALSE & 0 & 1 & 1 & 1 & 1 & 1 & 1 & ... & 0 & 0 & 0 & 0 & 0 & 0 & 0 & 0 & 0 & 0\\\\\n",
       "\\end{tabular}\n"
      ],
      "text/markdown": [
       "\n",
       "A data.frame: 6 × 11789\n",
       "\n",
       "| <!--/--> | Intensity &lt;chr&gt; | VALENCE.PLEASANTNESS &lt;int&gt; | SWEETORSOUR &lt;lgl&gt; | V2 &lt;int&gt; | V3 &lt;int&gt; | V4 &lt;int&gt; | V5 &lt;int&gt; | V6 &lt;int&gt; | V7 &lt;int&gt; | V8 &lt;int&gt; | ... ... | V11778 &lt;int&gt; | V11779 &lt;int&gt; | V11780 &lt;int&gt; | V11781 &lt;int&gt; | V11782 &lt;int&gt; | V11783 &lt;int&gt; | V11784 &lt;int&gt; | V11785 &lt;int&gt; | V11786 &lt;int&gt; | V11787 &lt;int&gt; |\n",
       "|---|---|---|---|---|---|---|---|---|---|---|---|---|---|---|---|---|---|---|---|---|---|\n",
       "| 1 | high | 11 | FALSE | 0 | 1 | 1 | 1 | 1 | 1 | 1 | ... | 0 | 0 | 0 | 0 | 0 | 0 | 0 | 0 | 0 | 0 |\n",
       "| 2 | high | 75 |  TRUE | 0 | 1 | 1 | 1 | 1 | 1 | 1 | ... | 0 | 0 | 0 | 0 | 0 | 0 | 0 | 0 | 0 | 0 |\n",
       "| 3 | low  | 62 |  TRUE | 0 | 1 | 1 | 1 | 1 | 1 | 1 | ... | 0 | 0 | 0 | 0 | 0 | 0 | 0 | 0 | 0 | 0 |\n",
       "| 4 | low  | 39 | FALSE | 0 | 1 | 1 | 1 | 1 | 1 | 1 | ... | 0 | 0 | 0 | 0 | 0 | 0 | 0 | 0 | 0 | 0 |\n",
       "| 5 | low  | 55 | FALSE | 0 | 1 | 1 | 1 | 1 | 1 | 1 | ... | 0 | 0 | 0 | 0 | 0 | 0 | 0 | 0 | 0 | 0 |\n",
       "| 6 | low  | 47 | FALSE | 0 | 1 | 1 | 1 | 1 | 1 | 1 | ... | 0 | 0 | 0 | 0 | 0 | 0 | 0 | 0 | 0 | 0 |\n",
       "\n"
      ],
      "text/plain": [
       "  Intensity VALENCE.PLEASANTNESS SWEETORSOUR V2 V3 V4 V5 V6 V7 V8 ... V11778\n",
       "1 high      11                   FALSE       0  1  1  1  1  1  1  ... 0     \n",
       "2 high      75                    TRUE       0  1  1  1  1  1  1  ... 0     \n",
       "3 low       62                    TRUE       0  1  1  1  1  1  1  ... 0     \n",
       "4 low       39                   FALSE       0  1  1  1  1  1  1  ... 0     \n",
       "5 low       55                   FALSE       0  1  1  1  1  1  1  ... 0     \n",
       "6 low       47                   FALSE       0  1  1  1  1  1  1  ... 0     \n",
       "  V11779 V11780 V11781 V11782 V11783 V11784 V11785 V11786 V11787\n",
       "1 0      0      0      0      0      0      0      0      0     \n",
       "2 0      0      0      0      0      0      0      0      0     \n",
       "3 0      0      0      0      0      0      0      0      0     \n",
       "4 0      0      0      0      0      0      0      0      0     \n",
       "5 0      0      0      0      0      0      0      0      0     \n",
       "6 0      0      0      0      0      0      0      0      0     "
      ]
     },
     "metadata": {},
     "output_type": "display_data"
    },
    {
     "data": {
      "image/png": "[encoded data removed]",
      "text/plain": [
       "plot without title"
      ]
     },
     "metadata": {
      "image/png": {
       "height": 840,
       "width": 840
      }
     },
     "output_type": "display_data"
    }
   ],
   "source": [
    "head(data)\n",
    "options(repr.plot.width=14, repr.plot.height=14)\n",
    "par(mfrow=c(2,2))\n",
    "plot(sort(data$VALENCE.PLEASANTNESS))\n",
    "plot(as.factor(data$Intensity),data$VALENCE.PLEASANTNESS, xlab='Intensity')\n",
    "plot(as.factor(data$SWEETORSOUR),data$VALENCE.PLEASANTNESS,xlab='SWEETORSOUR')\n",
    "plot(as.factor(data$V5679),data$VALENCE.PLEASANTNESS, xlab ='V5679 presence') #arbitrary chosen physiochemical feature."
   ]
  },
  {
   "cell_type": "markdown",
   "metadata": {},
   "source": [
    "the data we are interested in is VALENCE.PLEASANTNESS, wich take values between 0 and 100. The objective is to create a model estimating the VALENCE.PLEASANTNESS given the inputs \"Intensity, \"SWEETORSOUR\"(sure?), and V2 to V11787, which represent the presence or not of a corresponding physiochemical feature in the smelled molecule."
   ]
  },
  {
   "cell_type": "code",
   "execution_count": 81,
   "metadata": {},
   "outputs": [],
   "source": [
    "#check the means with or without some randomly chosen physiochemical features\n",
    "mean.chem.presence<-c()\n",
    "for(col in sample(2:nrow(data),50)){\n",
    "    idx.presence<-c()\n",
    "    idx.nonpresence<-c()\n",
    "    for(i in 1:nrow(data)){\n",
    "        if(data[col,i]==1){\n",
    "            idx.presence<-append(idx.presence,i)\n",
    "        }else{\n",
    "            idx.nonpresence<-append(idx.nonpresence,i)\n",
    "        }\n",
    "    }\n",
    "    #message(\"presence mean \",mean(data$VALENCE.PLEASANTNESS[idx.presence]))\n",
    "    #message(\"nonpresence mean \",mean(data$VALENCE.PLEASANTNESS[idx.nonpresence]))\n",
    "}"
   ]
  },
  {
   "cell_type": "code",
   "execution_count": 20,
   "metadata": {},
   "outputs": [
    {
     "name": "stdout",
     "output_type": "stream",
     "text": [
      "[1] 541.2861\n"
     ]
    }
   ],
   "source": [
    "lin.reg<-lm(data$VALENCE.PLEASANTNESS~data$Intensity,data)\n",
    "mini.pred<-predict(lin.reg,data)\n",
    "mini.rss<-mean((mini.pred-data$VALENCE.PLEASANTNESS)^2)\n",
    "print(mini.rss)"
   ]
  },
  {
   "cell_type": "markdown",
   "metadata": {},
   "source": [
    "now: start for real, do it right: split the data bt train, CV, test, start the linear models."
   ]
  }
 ],
 "metadata": {
  "kernelspec": {
   "display_name": "R",
   "language": "R",
   "name": "ir"
  },
  "language_info": {
   "codemirror_mode": "r",
   "file_extension": ".r",
   "mimetype": "text/x-r-source",
   "name": "R",
   "pygments_lexer": "r",
   "version": "4.0.3"
  }
 },
 "nbformat": 4,
 "nbformat_minor": 4
}
