{
 "cells": [
  {
   "cell_type": "markdown",
   "metadata": {},
   "source": [
    "## BIO322 MINI PROJECT A (Thomas Castiglione)\n"
   ]
  },
  {
   "cell_type": "markdown",
   "metadata": {},
   "source": [
    "## 1. Exploration of the data\n"
   ]
  },
  {
   "cell_type": "markdown",
   "metadata": {},
   "source": [
    "We first load and take a look at the training data:"
   ]
  },
  {
   "cell_type": "code",
   "execution_count": 1,
   "metadata": {},
   "outputs": [],
   "source": [
    "data.full<-na.omit(read.csv(file.path(\"../data/training_data.csv\")))"
   ]
  },
  {
   "cell_type": "code",
   "execution_count": 2,
   "metadata": {},
   "outputs": [
    {
     "data": {
      "text/html": [
       "<table>\n",
       "<caption>A data.frame: 6 × 4872</caption>\n",
       "<thead>\n",
       "\t<tr><th></th><th scope=col>Intensity</th><th scope=col>VALENCE.PLEASANTNESS</th><th scope=col>SWEETORSOUR</th><th scope=col>complexity.from.pubmed</th><th scope=col>MW</th><th scope=col>AMW</th><th scope=col>Sv</th><th scope=col>Se</th><th scope=col>Sp</th><th scope=col>Si</th><th scope=col>...</th><th scope=col>Psychotic.80</th><th scope=col>Psychotic.50</th><th scope=col>Hypertens.80</th><th scope=col>Hypertens.50</th><th scope=col>Hypnotic.80</th><th scope=col>Hypnotic.50</th><th scope=col>Neoplastic.80</th><th scope=col>Neoplastic.50</th><th scope=col>Infective.80</th><th scope=col>Infective.50</th></tr>\n",
       "\t<tr><th></th><th scope=col>&lt;chr&gt;</th><th scope=col>&lt;int&gt;</th><th scope=col>&lt;lgl&gt;</th><th scope=col>&lt;dbl&gt;</th><th scope=col>&lt;dbl&gt;</th><th scope=col>&lt;dbl&gt;</th><th scope=col>&lt;dbl&gt;</th><th scope=col>&lt;dbl&gt;</th><th scope=col>&lt;dbl&gt;</th><th scope=col>&lt;dbl&gt;</th><th scope=col>...</th><th scope=col>&lt;int&gt;</th><th scope=col>&lt;int&gt;</th><th scope=col>&lt;int&gt;</th><th scope=col>&lt;int&gt;</th><th scope=col>&lt;int&gt;</th><th scope=col>&lt;int&gt;</th><th scope=col>&lt;int&gt;</th><th scope=col>&lt;int&gt;</th><th scope=col>&lt;int&gt;</th><th scope=col>&lt;int&gt;</th></tr>\n",
       "</thead>\n",
       "<tbody>\n",
       "\t<tr><th scope=row>1</th><td>low </td><td>45</td><td>FALSE</td><td>302.0</td><td>208.33</td><td>5.952</td><td>19.698</td><td>34.491</td><td>21.523</td><td>39.571</td><td>...</td><td>0</td><td>0</td><td>1</td><td>0</td><td>1</td><td>0</td><td>1</td><td>0</td><td>1</td><td>0</td></tr>\n",
       "\t<tr><th scope=row>2</th><td>high</td><td>49</td><td> TRUE</td><td> 72.6</td><td>122.18</td><td>6.431</td><td>11.349</td><td>18.745</td><td>12.261</td><td>21.285</td><td>...</td><td>0</td><td>0</td><td>0</td><td>0</td><td>0</td><td>0</td><td>0</td><td>0</td><td>0</td><td>0</td></tr>\n",
       "\t<tr><th scope=row>3</th><td>high</td><td>56</td><td> TRUE</td><td>259.0</td><td>242.29</td><td>7.572</td><td>20.832</td><td>32.167</td><td>21.693</td><td>35.535</td><td>...</td><td>0</td><td>0</td><td>1</td><td>0</td><td>1</td><td>1</td><td>1</td><td>0</td><td>1</td><td>1</td></tr>\n",
       "\t<tr><th scope=row>4</th><td>high</td><td> 7</td><td>FALSE</td><td> 56.6</td><td> 88.12</td><td>6.294</td><td> 7.537</td><td>14.189</td><td> 7.955</td><td>16.080</td><td>...</td><td>0</td><td>0</td><td>0</td><td>0</td><td>0</td><td>0</td><td>0</td><td>0</td><td>0</td><td>0</td></tr>\n",
       "\t<tr><th scope=row>5</th><td>low </td><td>51</td><td>FALSE</td><td> 84.7</td><td>136.21</td><td>6.191</td><td>12.876</td><td>21.629</td><td>14.023</td><td>24.701</td><td>...</td><td>0</td><td>0</td><td>0</td><td>0</td><td>0</td><td>0</td><td>0</td><td>0</td><td>0</td><td>0</td></tr>\n",
       "\t<tr><th scope=row>6</th><td>high</td><td>21</td><td>FALSE</td><td>160.0</td><td>192.28</td><td>6.409</td><td>17.644</td><td>29.723</td><td>19.000</td><td>33.740</td><td>...</td><td>0</td><td>0</td><td>0</td><td>0</td><td>1</td><td>0</td><td>1</td><td>0</td><td>1</td><td>0</td></tr>\n",
       "</tbody>\n",
       "</table>\n"
      ],
      "text/latex": [
       "A data.frame: 6 × 4872\n",
       "\\begin{tabular}{r|lllllllllllllllllllll}\n",
       "  & Intensity & VALENCE.PLEASANTNESS & SWEETORSOUR & complexity.from.pubmed & MW & AMW & Sv & Se & Sp & Si & ... & Psychotic.80 & Psychotic.50 & Hypertens.80 & Hypertens.50 & Hypnotic.80 & Hypnotic.50 & Neoplastic.80 & Neoplastic.50 & Infective.80 & Infective.50\\\\\n",
       "  & <chr> & <int> & <lgl> & <dbl> & <dbl> & <dbl> & <dbl> & <dbl> & <dbl> & <dbl> & ... & <int> & <int> & <int> & <int> & <int> & <int> & <int> & <int> & <int> & <int>\\\\\n",
       "\\hline\n",
       "\t1 & low  & 45 & FALSE & 302.0 & 208.33 & 5.952 & 19.698 & 34.491 & 21.523 & 39.571 & ... & 0 & 0 & 1 & 0 & 1 & 0 & 1 & 0 & 1 & 0\\\\\n",
       "\t2 & high & 49 &  TRUE &  72.6 & 122.18 & 6.431 & 11.349 & 18.745 & 12.261 & 21.285 & ... & 0 & 0 & 0 & 0 & 0 & 0 & 0 & 0 & 0 & 0\\\\\n",
       "\t3 & high & 56 &  TRUE & 259.0 & 242.29 & 7.572 & 20.832 & 32.167 & 21.693 & 35.535 & ... & 0 & 0 & 1 & 0 & 1 & 1 & 1 & 0 & 1 & 1\\\\\n",
       "\t4 & high &  7 & FALSE &  56.6 &  88.12 & 6.294 &  7.537 & 14.189 &  7.955 & 16.080 & ... & 0 & 0 & 0 & 0 & 0 & 0 & 0 & 0 & 0 & 0\\\\\n",
       "\t5 & low  & 51 & FALSE &  84.7 & 136.21 & 6.191 & 12.876 & 21.629 & 14.023 & 24.701 & ... & 0 & 0 & 0 & 0 & 0 & 0 & 0 & 0 & 0 & 0\\\\\n",
       "\t6 & high & 21 & FALSE & 160.0 & 192.28 & 6.409 & 17.644 & 29.723 & 19.000 & 33.740 & ... & 0 & 0 & 0 & 0 & 1 & 0 & 1 & 0 & 1 & 0\\\\\n",
       "\\end{tabular}\n"
      ],
      "text/markdown": [
       "\n",
       "A data.frame: 6 × 4872\n",
       "\n",
       "| <!--/--> | Intensity &lt;chr&gt; | VALENCE.PLEASANTNESS &lt;int&gt; | SWEETORSOUR &lt;lgl&gt; | complexity.from.pubmed &lt;dbl&gt; | MW &lt;dbl&gt; | AMW &lt;dbl&gt; | Sv &lt;dbl&gt; | Se &lt;dbl&gt; | Sp &lt;dbl&gt; | Si &lt;dbl&gt; | ... ... | Psychotic.80 &lt;int&gt; | Psychotic.50 &lt;int&gt; | Hypertens.80 &lt;int&gt; | Hypertens.50 &lt;int&gt; | Hypnotic.80 &lt;int&gt; | Hypnotic.50 &lt;int&gt; | Neoplastic.80 &lt;int&gt; | Neoplastic.50 &lt;int&gt; | Infective.80 &lt;int&gt; | Infective.50 &lt;int&gt; |\n",
       "|---|---|---|---|---|---|---|---|---|---|---|---|---|---|---|---|---|---|---|---|---|---|\n",
       "| 1 | low  | 45 | FALSE | 302.0 | 208.33 | 5.952 | 19.698 | 34.491 | 21.523 | 39.571 | ... | 0 | 0 | 1 | 0 | 1 | 0 | 1 | 0 | 1 | 0 |\n",
       "| 2 | high | 49 |  TRUE |  72.6 | 122.18 | 6.431 | 11.349 | 18.745 | 12.261 | 21.285 | ... | 0 | 0 | 0 | 0 | 0 | 0 | 0 | 0 | 0 | 0 |\n",
       "| 3 | high | 56 |  TRUE | 259.0 | 242.29 | 7.572 | 20.832 | 32.167 | 21.693 | 35.535 | ... | 0 | 0 | 1 | 0 | 1 | 1 | 1 | 0 | 1 | 1 |\n",
       "| 4 | high |  7 | FALSE |  56.6 |  88.12 | 6.294 |  7.537 | 14.189 |  7.955 | 16.080 | ... | 0 | 0 | 0 | 0 | 0 | 0 | 0 | 0 | 0 | 0 |\n",
       "| 5 | low  | 51 | FALSE |  84.7 | 136.21 | 6.191 | 12.876 | 21.629 | 14.023 | 24.701 | ... | 0 | 0 | 0 | 0 | 0 | 0 | 0 | 0 | 0 | 0 |\n",
       "| 6 | high | 21 | FALSE | 160.0 | 192.28 | 6.409 | 17.644 | 29.723 | 19.000 | 33.740 | ... | 0 | 0 | 0 | 0 | 1 | 0 | 1 | 0 | 1 | 0 |\n",
       "\n"
      ],
      "text/plain": [
       "  Intensity VALENCE.PLEASANTNESS SWEETORSOUR complexity.from.pubmed MW    \n",
       "1 low       45                   FALSE       302.0                  208.33\n",
       "2 high      49                    TRUE        72.6                  122.18\n",
       "3 high      56                    TRUE       259.0                  242.29\n",
       "4 high       7                   FALSE        56.6                   88.12\n",
       "5 low       51                   FALSE        84.7                  136.21\n",
       "6 high      21                   FALSE       160.0                  192.28\n",
       "  AMW   Sv     Se     Sp     Si     ... Psychotic.80 Psychotic.50 Hypertens.80\n",
       "1 5.952 19.698 34.491 21.523 39.571 ... 0            0            1           \n",
       "2 6.431 11.349 18.745 12.261 21.285 ... 0            0            0           \n",
       "3 7.572 20.832 32.167 21.693 35.535 ... 0            0            1           \n",
       "4 6.294  7.537 14.189  7.955 16.080 ... 0            0            0           \n",
       "5 6.191 12.876 21.629 14.023 24.701 ... 0            0            0           \n",
       "6 6.409 17.644 29.723 19.000 33.740 ... 0            0            0           \n",
       "  Hypertens.50 Hypnotic.80 Hypnotic.50 Neoplastic.80 Neoplastic.50 Infective.80\n",
       "1 0            1           0           1             0             1           \n",
       "2 0            0           0           0             0             0           \n",
       "3 0            1           1           1             0             1           \n",
       "4 0            0           0           0             0             0           \n",
       "5 0            0           0           0             0             0           \n",
       "6 0            1           0           1             0             1           \n",
       "  Infective.50\n",
       "1 0           \n",
       "2 0           \n",
       "3 1           \n",
       "4 0           \n",
       "5 0           \n",
       "6 0           "
      ]
     },
     "metadata": {},
     "output_type": "display_data"
    },
    {
     "data": {
      "text/html": [
       "<style>\n",
       ".list-inline {list-style: none; margin:0; padding: 0}\n",
       ".list-inline>li {display: inline-block}\n",
       ".list-inline>li:not(:last-child)::after {content: \"\\00b7\"; padding: 0 .5ex}\n",
       "</style>\n",
       "<ol class=list-inline><li>708</li><li>4872</li></ol>\n"
      ],
      "text/latex": [
       "\\begin{enumerate*}\n",
       "\\item 708\n",
       "\\item 4872\n",
       "\\end{enumerate*}\n"
      ],
      "text/markdown": [
       "1. 708\n",
       "2. 4872\n",
       "\n",
       "\n"
      ],
      "text/plain": [
       "[1]  708 4872"
      ]
     },
     "metadata": {},
     "output_type": "display_data"
    }
   ],
   "source": [
    "head(data.full)\n",
    "dim(data.full)\n",
    "#plot(sort(data$VALENCE.PLEASANTNESS))\n",
    "#plot(sort(data$MW),data$VALENCE.PLEASANTNESS, xlab='MW')\n",
    "#plot(as.factor(data$SWEETORSOUR),data$VALENCE.PLEASANTNESS,xlab='SWEETORSOUR')\n"
   ]
  },
  {
   "cell_type": "markdown",
   "metadata": {},
   "source": [
    "to get the same type for all predictors(integers and/or decimals), we are going to transforme the predictors \"Intensity\" and \"SWEETORSOUR\" as integers\n",
    "(for intensity, create new predictors for \"high\" and \"low\" with values 0 or 1 (one-hot-coding) and for SWEETORSOUR, True->1, False->0)"
   ]
  },
  {
   "cell_type": "code",
   "execution_count": 3,
   "metadata": {},
   "outputs": [],
   "source": [
    "data.full$Intensity_high<-ifelse(data.full$Intensity=='high',1,0)\n",
    "data.full$Intensity_low<-ifelse(data.full$Intensity=='low',1,0)\n",
    "data.full<-data.full[,-which(colnames(data.full)=='SWEETORSOUR')]    #rm sweetorsour bc not in final test set\n",
    "data.full<-data.full[,-which(colnames(data.full)=='Intensity')]"
   ]
  },
  {
   "cell_type": "code",
   "execution_count": 4,
   "metadata": {},
   "outputs": [
    {
     "data": {
      "text/html": [
       "<table>\n",
       "<caption>A data.frame: 6 × 4872</caption>\n",
       "<thead>\n",
       "\t<tr><th></th><th scope=col>VALENCE.PLEASANTNESS</th><th scope=col>complexity.from.pubmed</th><th scope=col>MW</th><th scope=col>AMW</th><th scope=col>Sv</th><th scope=col>Se</th><th scope=col>Sp</th><th scope=col>Si</th><th scope=col>Mv</th><th scope=col>Me</th><th scope=col>...</th><th scope=col>Hypertens.80</th><th scope=col>Hypertens.50</th><th scope=col>Hypnotic.80</th><th scope=col>Hypnotic.50</th><th scope=col>Neoplastic.80</th><th scope=col>Neoplastic.50</th><th scope=col>Infective.80</th><th scope=col>Infective.50</th><th scope=col>Intensity_high</th><th scope=col>Intensity_low</th></tr>\n",
       "\t<tr><th></th><th scope=col>&lt;int&gt;</th><th scope=col>&lt;dbl&gt;</th><th scope=col>&lt;dbl&gt;</th><th scope=col>&lt;dbl&gt;</th><th scope=col>&lt;dbl&gt;</th><th scope=col>&lt;dbl&gt;</th><th scope=col>&lt;dbl&gt;</th><th scope=col>&lt;dbl&gt;</th><th scope=col>&lt;dbl&gt;</th><th scope=col>&lt;dbl&gt;</th><th scope=col>...</th><th scope=col>&lt;int&gt;</th><th scope=col>&lt;int&gt;</th><th scope=col>&lt;int&gt;</th><th scope=col>&lt;int&gt;</th><th scope=col>&lt;int&gt;</th><th scope=col>&lt;int&gt;</th><th scope=col>&lt;int&gt;</th><th scope=col>&lt;int&gt;</th><th scope=col>&lt;dbl&gt;</th><th scope=col>&lt;dbl&gt;</th></tr>\n",
       "</thead>\n",
       "<tbody>\n",
       "\t<tr><th scope=row>1</th><td>45</td><td>302.0</td><td>208.33</td><td>5.952</td><td>19.698</td><td>34.491</td><td>21.523</td><td>39.571</td><td>0.563</td><td>0.985</td><td>...</td><td>1</td><td>0</td><td>1</td><td>0</td><td>1</td><td>0</td><td>1</td><td>0</td><td>0</td><td>1</td></tr>\n",
       "\t<tr><th scope=row>2</th><td>49</td><td> 72.6</td><td>122.18</td><td>6.431</td><td>11.349</td><td>18.745</td><td>12.261</td><td>21.285</td><td>0.597</td><td>0.987</td><td>...</td><td>0</td><td>0</td><td>0</td><td>0</td><td>0</td><td>0</td><td>0</td><td>0</td><td>1</td><td>0</td></tr>\n",
       "\t<tr><th scope=row>3</th><td>56</td><td>259.0</td><td>242.29</td><td>7.572</td><td>20.832</td><td>32.167</td><td>21.693</td><td>35.535</td><td>0.651</td><td>1.005</td><td>...</td><td>1</td><td>0</td><td>1</td><td>1</td><td>1</td><td>0</td><td>1</td><td>1</td><td>1</td><td>0</td></tr>\n",
       "\t<tr><th scope=row>4</th><td> 7</td><td> 56.6</td><td> 88.12</td><td>6.294</td><td> 7.537</td><td>14.189</td><td> 7.955</td><td>16.080</td><td>0.538</td><td>1.014</td><td>...</td><td>0</td><td>0</td><td>0</td><td>0</td><td>0</td><td>0</td><td>0</td><td>0</td><td>1</td><td>0</td></tr>\n",
       "\t<tr><th scope=row>5</th><td>51</td><td> 84.7</td><td>136.21</td><td>6.191</td><td>12.876</td><td>21.629</td><td>14.023</td><td>24.701</td><td>0.585</td><td>0.983</td><td>...</td><td>0</td><td>0</td><td>0</td><td>0</td><td>0</td><td>0</td><td>0</td><td>0</td><td>0</td><td>1</td></tr>\n",
       "\t<tr><th scope=row>6</th><td>21</td><td>160.0</td><td>192.28</td><td>6.409</td><td>17.644</td><td>29.723</td><td>19.000</td><td>33.740</td><td>0.588</td><td>0.991</td><td>...</td><td>0</td><td>0</td><td>1</td><td>0</td><td>1</td><td>0</td><td>1</td><td>0</td><td>1</td><td>0</td></tr>\n",
       "</tbody>\n",
       "</table>\n"
      ],
      "text/latex": [
       "A data.frame: 6 × 4872\n",
       "\\begin{tabular}{r|lllllllllllllllllllll}\n",
       "  & VALENCE.PLEASANTNESS & complexity.from.pubmed & MW & AMW & Sv & Se & Sp & Si & Mv & Me & ... & Hypertens.80 & Hypertens.50 & Hypnotic.80 & Hypnotic.50 & Neoplastic.80 & Neoplastic.50 & Infective.80 & Infective.50 & Intensity\\_high & Intensity\\_low\\\\\n",
       "  & <int> & <dbl> & <dbl> & <dbl> & <dbl> & <dbl> & <dbl> & <dbl> & <dbl> & <dbl> & ... & <int> & <int> & <int> & <int> & <int> & <int> & <int> & <int> & <dbl> & <dbl>\\\\\n",
       "\\hline\n",
       "\t1 & 45 & 302.0 & 208.33 & 5.952 & 19.698 & 34.491 & 21.523 & 39.571 & 0.563 & 0.985 & ... & 1 & 0 & 1 & 0 & 1 & 0 & 1 & 0 & 0 & 1\\\\\n",
       "\t2 & 49 &  72.6 & 122.18 & 6.431 & 11.349 & 18.745 & 12.261 & 21.285 & 0.597 & 0.987 & ... & 0 & 0 & 0 & 0 & 0 & 0 & 0 & 0 & 1 & 0\\\\\n",
       "\t3 & 56 & 259.0 & 242.29 & 7.572 & 20.832 & 32.167 & 21.693 & 35.535 & 0.651 & 1.005 & ... & 1 & 0 & 1 & 1 & 1 & 0 & 1 & 1 & 1 & 0\\\\\n",
       "\t4 &  7 &  56.6 &  88.12 & 6.294 &  7.537 & 14.189 &  7.955 & 16.080 & 0.538 & 1.014 & ... & 0 & 0 & 0 & 0 & 0 & 0 & 0 & 0 & 1 & 0\\\\\n",
       "\t5 & 51 &  84.7 & 136.21 & 6.191 & 12.876 & 21.629 & 14.023 & 24.701 & 0.585 & 0.983 & ... & 0 & 0 & 0 & 0 & 0 & 0 & 0 & 0 & 0 & 1\\\\\n",
       "\t6 & 21 & 160.0 & 192.28 & 6.409 & 17.644 & 29.723 & 19.000 & 33.740 & 0.588 & 0.991 & ... & 0 & 0 & 1 & 0 & 1 & 0 & 1 & 0 & 1 & 0\\\\\n",
       "\\end{tabular}\n"
      ],
      "text/markdown": [
       "\n",
       "A data.frame: 6 × 4872\n",
       "\n",
       "| <!--/--> | VALENCE.PLEASANTNESS &lt;int&gt; | complexity.from.pubmed &lt;dbl&gt; | MW &lt;dbl&gt; | AMW &lt;dbl&gt; | Sv &lt;dbl&gt; | Se &lt;dbl&gt; | Sp &lt;dbl&gt; | Si &lt;dbl&gt; | Mv &lt;dbl&gt; | Me &lt;dbl&gt; | ... ... | Hypertens.80 &lt;int&gt; | Hypertens.50 &lt;int&gt; | Hypnotic.80 &lt;int&gt; | Hypnotic.50 &lt;int&gt; | Neoplastic.80 &lt;int&gt; | Neoplastic.50 &lt;int&gt; | Infective.80 &lt;int&gt; | Infective.50 &lt;int&gt; | Intensity_high &lt;dbl&gt; | Intensity_low &lt;dbl&gt; |\n",
       "|---|---|---|---|---|---|---|---|---|---|---|---|---|---|---|---|---|---|---|---|---|---|\n",
       "| 1 | 45 | 302.0 | 208.33 | 5.952 | 19.698 | 34.491 | 21.523 | 39.571 | 0.563 | 0.985 | ... | 1 | 0 | 1 | 0 | 1 | 0 | 1 | 0 | 0 | 1 |\n",
       "| 2 | 49 |  72.6 | 122.18 | 6.431 | 11.349 | 18.745 | 12.261 | 21.285 | 0.597 | 0.987 | ... | 0 | 0 | 0 | 0 | 0 | 0 | 0 | 0 | 1 | 0 |\n",
       "| 3 | 56 | 259.0 | 242.29 | 7.572 | 20.832 | 32.167 | 21.693 | 35.535 | 0.651 | 1.005 | ... | 1 | 0 | 1 | 1 | 1 | 0 | 1 | 1 | 1 | 0 |\n",
       "| 4 |  7 |  56.6 |  88.12 | 6.294 |  7.537 | 14.189 |  7.955 | 16.080 | 0.538 | 1.014 | ... | 0 | 0 | 0 | 0 | 0 | 0 | 0 | 0 | 1 | 0 |\n",
       "| 5 | 51 |  84.7 | 136.21 | 6.191 | 12.876 | 21.629 | 14.023 | 24.701 | 0.585 | 0.983 | ... | 0 | 0 | 0 | 0 | 0 | 0 | 0 | 0 | 0 | 1 |\n",
       "| 6 | 21 | 160.0 | 192.28 | 6.409 | 17.644 | 29.723 | 19.000 | 33.740 | 0.588 | 0.991 | ... | 0 | 0 | 1 | 0 | 1 | 0 | 1 | 0 | 1 | 0 |\n",
       "\n"
      ],
      "text/plain": [
       "  VALENCE.PLEASANTNESS complexity.from.pubmed MW     AMW   Sv     Se     Sp    \n",
       "1 45                   302.0                  208.33 5.952 19.698 34.491 21.523\n",
       "2 49                    72.6                  122.18 6.431 11.349 18.745 12.261\n",
       "3 56                   259.0                  242.29 7.572 20.832 32.167 21.693\n",
       "4  7                    56.6                   88.12 6.294  7.537 14.189  7.955\n",
       "5 51                    84.7                  136.21 6.191 12.876 21.629 14.023\n",
       "6 21                   160.0                  192.28 6.409 17.644 29.723 19.000\n",
       "  Si     Mv    Me    ... Hypertens.80 Hypertens.50 Hypnotic.80 Hypnotic.50\n",
       "1 39.571 0.563 0.985 ... 1            0            1           0          \n",
       "2 21.285 0.597 0.987 ... 0            0            0           0          \n",
       "3 35.535 0.651 1.005 ... 1            0            1           1          \n",
       "4 16.080 0.538 1.014 ... 0            0            0           0          \n",
       "5 24.701 0.585 0.983 ... 0            0            0           0          \n",
       "6 33.740 0.588 0.991 ... 0            0            1           0          \n",
       "  Neoplastic.80 Neoplastic.50 Infective.80 Infective.50 Intensity_high\n",
       "1 1             0             1            0            0             \n",
       "2 0             0             0            0            1             \n",
       "3 1             0             1            1            1             \n",
       "4 0             0             0            0            1             \n",
       "5 0             0             0            0            0             \n",
       "6 1             0             1            0            1             \n",
       "  Intensity_low\n",
       "1 1            \n",
       "2 0            \n",
       "3 0            \n",
       "4 0            \n",
       "5 1            \n",
       "6 0            "
      ]
     },
     "metadata": {},
     "output_type": "display_data"
    },
    {
     "name": "stdout",
     "output_type": "stream",
     "text": [
      "Number of predictor with type other than numeric of integer :  0"
     ]
    }
   ],
   "source": [
    "head(data.full)\n",
    "lol<-apply(data.full,2,function(x) typeof(x)%in%c('double','integer'))\n",
    "cat('Number of predictor with type other than numeric of integer : ',length(which(lol != T)))\n"
   ]
  },
  {
   "cell_type": "markdown",
   "metadata": {},
   "source": [
    "Now, we only have predictors with numeric values.\n",
    "Let's check if there is predictors with value 0 for all samples:"
   ]
  },
  {
   "cell_type": "code",
   "execution_count": 5,
   "metadata": {},
   "outputs": [
    {
     "data": {
      "text/html": [
       "1840"
      ],
      "text/latex": [
       "1840"
      ],
      "text/markdown": [
       "1840"
      ],
      "text/plain": [
       "[1] 1840"
      ]
     },
     "metadata": {},
     "output_type": "display_data"
    }
   ],
   "source": [
    "dim(data.full[,apply(data.full,2,function(x) all(x==0))])[2]"
   ]
  },
  {
   "cell_type": "markdown",
   "metadata": {},
   "source": [
    "There is 1840 predictors that are always 0, so we can remove them (they cannot have any impact on the VALENCE.PLEASANTNESS values)"
   ]
  },
  {
   "cell_type": "code",
   "execution_count": 6,
   "metadata": {},
   "outputs": [
    {
     "data": {
      "text/html": [
       "3032"
      ],
      "text/latex": [
       "3032"
      ],
      "text/markdown": [
       "3032"
      ],
      "text/plain": [
       "[1] 3032"
      ]
     },
     "metadata": {},
     "output_type": "display_data"
    }
   ],
   "source": [
    "data.no.zeros<-(data.full[,apply(data.full,2,function(x)!all(x==0))])\n",
    "dim(data.no.zeros)[2]"
   ]
  },
  {
   "cell_type": "markdown",
   "metadata": {},
   "source": [
    "We visualize the distribution of VALENCE.PLEASANTNESS and pairplot of some randomly chosen data to get a general idea of the data distribution."
   ]
  },
  {
   "cell_type": "code",
   "execution_count": 19,
   "metadata": {},
   "outputs": [
    {
     "data": {
      "image/png": "[encoded data removed]",
      "text/plain": [
       "Plot with title \"Histogram of data.no.zeros$VALENCE.PLEASANTNESS\""
      ]
     },
     "metadata": {
      "image/png": {
       "height": 480,
       "width": 480
      }
     },
     "output_type": "display_data"
    },
    {
     "data": {
      "image/png": "[encoded data removed]",
      "text/plain": [
       "plot without title"
      ]
     },
     "metadata": {
      "image/png": {
       "height": 480,
       "width": 480
      }
     },
     "output_type": "display_data"
    }
   ],
   "source": [
    "set.seed(21)\n",
    "hist(data.no.zeros$VALENCE.PLEASANTNESS)\n",
    "pairs(data.no.zeros[c(1,sample(1:ncol(data.no.zeros),3))],cex.labels=1.5)"
   ]
  },
  {
   "cell_type": "markdown",
   "metadata": {},
   "source": [
    "In the chosen plotted data, we cannot really gess any direct influence of a predictor on VALENCE.PLEASANTNESS, but we can guess some predictors that seem to be correlated (like SpPosLog_B_i. and MPC03 for example) "
   ]
  },
  {
   "cell_type": "markdown",
   "metadata": {},
   "source": [
    "We will then check for pairwise correlation:"
   ]
  },
  {
   "cell_type": "code",
   "execution_count": 21,
   "metadata": {},
   "outputs": [
    {
     "name": "stderr",
     "output_type": "stream",
     "text": [
      "corrplot 0.84 loaded\n",
      "\n"
     ]
    }
   ],
   "source": [
    "library(corrplot)"
   ]
  },
  {
   "cell_type": "code",
   "execution_count": 22,
   "metadata": {},
   "outputs": [
    {
     "name": "stderr",
     "output_type": "stream",
     "text": [
      "Warning message in cor(data.no.zeros):\n",
      "\"l'écart type est nulle\"\n"
     ]
    }
   ],
   "source": [
    "cor.mat<-cor(data.no.zeros)"
   ]
  },
  {
   "cell_type": "code",
   "execution_count": 24,
   "metadata": {},
   "outputs": [
    {
     "data": {
      "image/png": "[encoded data removed]",
      "text/plain": [
       "Plot with title \"\""
      ]
     },
     "metadata": {
      "image/png": {
       "height": 720,
       "width": 720
      }
     },
     "output_type": "display_data"
    }
   ],
   "source": [
    "set.seed(2)\n",
    "options(repr.plot.width=12, repr.plot.height=12) #graphical parameters\n",
    "corrplot(cor.mat[sample(1:ncol(data.no.zeros),30),sample(1:ncol(data.no.zeros),30)], order=\"hclust\", tl.col=\"black\", tl.srt=45)\n",
    "options(repr.plot.width=8, repr.plot.height=8)"
   ]
  },
  {
   "cell_type": "markdown",
   "metadata": {},
   "source": [
    "We can see on this plot of selected predictors that there is some highly correlated predictors. We will remove one of each predictors pair having pairwise correlation > 0.99. Later will compare the models based on the data with/without these correlated predictors."
   ]
  },
  {
   "cell_type": "code",
   "execution_count": 26,
   "metadata": {},
   "outputs": [],
   "source": [
    "flattenCorrMatrix <- function(cormat) {        #function found online and modified, used to get a more comfortable correlation matrix\n",
    "  ut <- upper.tri(cormat)\n",
    "  data.frame(row = rownames(cormat)[row(cormat)[ut]],\n",
    "    column = rownames(cormat)[col(cormat)[ut]],\n",
    "    cor  =(cormat)[ut])\n",
    "}"
   ]
  },
  {
   "cell_type": "code",
   "execution_count": 27,
   "metadata": {},
   "outputs": [
    {
     "data": {
      "text/html": [
       "1176"
      ],
      "text/latex": [
       "1176"
      ],
      "text/markdown": [
       "1176"
      ],
      "text/plain": [
       "[1] 1176"
      ]
     },
     "metadata": {},
     "output_type": "display_data"
    }
   ],
   "source": [
    "cor.df<-flattenCorrMatrix(cor.mat)\n",
    "max.cor.rows<-which(abs(cor.df$cor) > 0.99)\n",
    "max.cor.pred<-cor.df[max.cor.rows,][-3]\n",
    "dim(max.cor.pred[!duplicated(max.cor.pred$row),])[1]"
   ]
  },
  {
   "cell_type": "markdown",
   "metadata": {},
   "source": [
    "There is 1176 predictors pair with correlation > 0.99, we remove one of each of these."
   ]
  },
  {
   "cell_type": "code",
   "execution_count": 28,
   "metadata": {},
   "outputs": [
    {
     "data": {
      "text/html": [
       "1856"
      ],
      "text/latex": [
       "1856"
      ],
      "text/markdown": [
       "1856"
      ],
      "text/plain": [
       "[1] 1856"
      ]
     },
     "metadata": {},
     "output_type": "display_data"
    }
   ],
   "source": [
    "data<-data.no.zeros\n",
    "data<-data.no.zeros[,!colnames(data)%in%c(max.cor.pred$row)]\n",
    "dim(data)[2]"
   ]
  },
  {
   "cell_type": "markdown",
   "metadata": {},
   "source": [
    "We have reduced the number of predictors from 4871 to 1855 (first column is the response), not bad ! (actually not sure now if this is not bad, we will compare the models later)"
   ]
  },
  {
   "cell_type": "markdown",
   "metadata": {},
   "source": [
    "## 2. linear methods"
   ]
  },
  {
   "cell_type": "markdown",
   "metadata": {},
   "source": [
    "Let's firstly split the data in a training and test set (test set on kaggle is for later)"
   ]
  },
  {
   "cell_type": "code",
   "execution_count": 29,
   "metadata": {},
   "outputs": [
    {
     "data": {
      "text/html": [
       "<style>\n",
       ".list-inline {list-style: none; margin:0; padding: 0}\n",
       ".list-inline>li {display: inline-block}\n",
       ".list-inline>li:not(:last-child)::after {content: \"\\00b7\"; padding: 0 .5ex}\n",
       "</style>\n",
       "<ol class=list-inline><li>472</li><li>1856</li></ol>\n"
      ],
      "text/latex": [
       "\\begin{enumerate*}\n",
       "\\item 472\n",
       "\\item 1856\n",
       "\\end{enumerate*}\n"
      ],
      "text/markdown": [
       "1. 472\n",
       "2. 1856\n",
       "\n",
       "\n"
      ],
      "text/plain": [
       "[1]  472 1856"
      ]
     },
     "metadata": {},
     "output_type": "display_data"
    },
    {
     "data": {
      "text/html": [
       "<style>\n",
       ".list-inline {list-style: none; margin:0; padding: 0}\n",
       ".list-inline>li {display: inline-block}\n",
       ".list-inline>li:not(:last-child)::after {content: \"\\00b7\"; padding: 0 .5ex}\n",
       "</style>\n",
       "<ol class=list-inline><li>236</li><li>1856</li></ol>\n"
      ],
      "text/latex": [
       "\\begin{enumerate*}\n",
       "\\item 236\n",
       "\\item 1856\n",
       "\\end{enumerate*}\n"
      ],
      "text/markdown": [
       "1. 236\n",
       "2. 1856\n",
       "\n",
       "\n"
      ],
      "text/plain": [
       "[1]  236 1856"
      ]
     },
     "metadata": {},
     "output_type": "display_data"
    }
   ],
   "source": [
    "set.seed(1)\n",
    "idx.train<-sample(nrow(data), nrow(data)*(2/3)) #2/3 taken into the training set because it will \n",
    "                                                #later be splitted again to get a validation set.\n",
    "data.train<-data[idx.train,]\n",
    "data.test<-data[-idx.train,]\n",
    "dim(data.train)\n",
    "dim(data.test)"
   ]
  },
  {
   "cell_type": "markdown",
   "metadata": {},
   "source": [
    "**Simple linear regression with all the predictors**"
   ]
  },
  {
   "cell_type": "markdown",
   "metadata": {},
   "source": [
    "Now let's run a simple linear regression on the whole training set. The result will be bad, since p>n it will largely overfit the data, but this result will serve us as baseline for the rest. "
   ]
  },
  {
   "cell_type": "code",
   "execution_count": 30,
   "metadata": {},
   "outputs": [],
   "source": [
    "basic.lin.fit<-lm(VALENCE.PLEASANTNESS ~ ., data.train)"
   ]
  },
  {
   "cell_type": "code",
   "execution_count": 31,
   "metadata": {},
   "outputs": [
    {
     "name": "stderr",
     "output_type": "stream",
     "text": [
      "Warning message in predict.lm(basic.lin.fit, data.train):\n",
      "\"prediction from a rank-deficient fit may be misleading\"\n",
      "Warning message in predict.lm(basic.lin.fit, data.test):\n",
      "\"prediction from a rank-deficient fit may be misleading\"\n"
     ]
    },
    {
     "name": "stdout",
     "output_type": "stream",
     "text": [
      "train RMSE:  12.15531 \n",
      " test RMSE:  1421538170"
     ]
    }
   ],
   "source": [
    "train.pred<-predict(basic.lin.fit,data.train)\n",
    "test.pred<-predict(basic.lin.fit, data.test)\n",
    "train.RMSE<-sqrt(mean((data.train$VALENCE.PLEASANTNESS-train.pred)^2))\n",
    "test.RMSE<-sqrt(mean((data.test$VALENCE.PLEASANTNESS-test.pred)^2))\n",
    "cat(\"train RMSE: \", train.RMSE,\"\\n\", \"test RMSE: \", test.RMSE)"
   ]
  },
  {
   "cell_type": "markdown",
   "metadata": {},
   "source": [
    "We can se the huge test RMSE, coming from the largely overfitting model. "
   ]
  },
  {
   "cell_type": "markdown",
   "metadata": {},
   "source": [
    "**Cross-validation choice of best predictors and best number of predictors**"
   ]
  },
  {
   "cell_type": "markdown",
   "metadata": {},
   "source": [
    "We are in the situation n<p, we have to find the best number of relevant predictors using 5-fold cross-validation on forward subsetting (best subset selection will ask to much computing):"
   ]
  },
  {
   "cell_type": "code",
   "execution_count": 32,
   "metadata": {},
   "outputs": [
    {
     "name": "stderr",
     "output_type": "stream",
     "text": [
      "-- \u001b[1mAttaching packages\u001b[22m ------------------------------------------------------------------------------ tidymodels 0.1.2 --\n",
      "\n",
      "\u001b[32mv\u001b[39m \u001b[34mbroom    \u001b[39m 0.7.2      \u001b[32mv\u001b[39m \u001b[34mrecipes  \u001b[39m 0.1.15\n",
      "\u001b[32mv\u001b[39m \u001b[34mdials    \u001b[39m 0.0.9      \u001b[32mv\u001b[39m \u001b[34mrsample  \u001b[39m 0.0.8 \n",
      "\u001b[32mv\u001b[39m \u001b[34mdplyr    \u001b[39m 1.0.2      \u001b[32mv\u001b[39m \u001b[34mtibble   \u001b[39m 3.0.4 \n",
      "\u001b[32mv\u001b[39m \u001b[34mggplot2  \u001b[39m 3.3.2      \u001b[32mv\u001b[39m \u001b[34mtidyr    \u001b[39m 1.1.2 \n",
      "\u001b[32mv\u001b[39m \u001b[34minfer    \u001b[39m 0.5.3      \u001b[32mv\u001b[39m \u001b[34mtune     \u001b[39m 0.1.2 \n",
      "\u001b[32mv\u001b[39m \u001b[34mmodeldata\u001b[39m 0.1.0      \u001b[32mv\u001b[39m \u001b[34mworkflows\u001b[39m 0.2.1 \n",
      "\u001b[32mv\u001b[39m \u001b[34mparsnip  \u001b[39m 0.1.4      \u001b[32mv\u001b[39m \u001b[34myardstick\u001b[39m 0.0.7 \n",
      "\u001b[32mv\u001b[39m \u001b[34mpurrr    \u001b[39m 0.3.4      \n",
      "\n",
      "-- \u001b[1mConflicts\u001b[22m --------------------------------------------------------------------------------- tidymodels_conflicts() --\n",
      "\u001b[31mx\u001b[39m \u001b[34mpurrr\u001b[39m::\u001b[32mdiscard()\u001b[39m masks \u001b[34mscales\u001b[39m::discard()\n",
      "\u001b[31mx\u001b[39m \u001b[34mdplyr\u001b[39m::\u001b[32mfilter()\u001b[39m  masks \u001b[34mstats\u001b[39m::filter()\n",
      "\u001b[31mx\u001b[39m \u001b[34mdplyr\u001b[39m::\u001b[32mlag()\u001b[39m     masks \u001b[34mstats\u001b[39m::lag()\n",
      "\u001b[31mx\u001b[39m \u001b[34mrecipes\u001b[39m::\u001b[32mstep()\u001b[39m  masks \u001b[34mstats\u001b[39m::step()\n",
      "\n"
     ]
    }
   ],
   "source": [
    "library(leaps)\n",
    "library(tidymodels)"
   ]
  },
  {
   "cell_type": "code",
   "execution_count": 33,
   "metadata": {},
   "outputs": [
    {
     "name": "stderr",
     "output_type": "stream",
     "text": [
      "Warning message in leaps.setup(x, y, wt = wt, nbest = nbest, nvmax = nvmax, force.in = force.in, :\n",
      "\"1565  linear dependencies found\"\n"
     ]
    },
    {
     "name": "stdout",
     "output_type": "stream",
     "text": [
      "Reordering variables and trying again:\n"
     ]
    }
   ],
   "source": [
    "reg.fit.fwd<-regsubsets(VALENCE.PLEASANTNESS ~ ., data.train, method = 'forward', nvmax=150)\n",
    "summary.reg<-summary(reg.fit.fwd)"
   ]
  },
  {
   "cell_type": "code",
   "execution_count": 34,
   "metadata": {},
   "outputs": [],
   "source": [
    "predict.regsubsets<-function(object,newdata,nb,formula=as.formula(object$call[2])){\n",
    "    mat=model.matrix(formula,newdata)\n",
    "    coefs=coef(object, id=nb)\n",
    "    xvars=names(coefs)\n",
    "    return(mat[,xvars]%*%coefs)\n",
    "}\n",
    "fit_and_eval<-function(fold,formula=VALENCE.PLEASANTNESS ~ .){\n",
    "    fit<-regsubsets(formula, analysis(fold), method='forward', nvmax=50,really.big=T)\n",
    "    valid.set<-assessment(fold)\n",
    "    sapply(1:(fit$nvmax-1),\n",
    "           function(nb) mean((valid.set$VALENCE.PLEASANTNESS - predict(fit, valid.set, nb, formula))^2))\n",
    "}\n"
   ]
  },
  {
   "cell_type": "markdown",
   "metadata": {},
   "source": [
    "The following cell is pretty slow:"
   ]
  },
  {
   "cell_type": "code",
   "execution_count": null,
   "metadata": {},
   "outputs": [
    {
     "name": "stderr",
     "output_type": "stream",
     "text": [
      "Warning message in leaps.setup(x, y, wt = wt, nbest = nbest, nvmax = nvmax, force.in = force.in, :\n",
      "\"1590  linear dependencies found\"\n"
     ]
    },
    {
     "name": "stdout",
     "output_type": "stream",
     "text": [
      "Reordering variables and trying again:\n"
     ]
    },
    {
     "name": "stderr",
     "output_type": "stream",
     "text": [
      "Warning message in leaps.setup(x, y, wt = wt, nbest = nbest, nvmax = nvmax, force.in = force.in, :\n",
      "\"1596  linear dependencies found\"\n"
     ]
    },
    {
     "name": "stdout",
     "output_type": "stream",
     "text": [
      "Reordering variables and trying again:\n"
     ]
    },
    {
     "name": "stderr",
     "output_type": "stream",
     "text": [
      "Warning message in leaps.setup(x, y, wt = wt, nbest = nbest, nvmax = nvmax, force.in = force.in, :\n",
      "\"1599  linear dependencies found\"\n"
     ]
    },
    {
     "name": "stdout",
     "output_type": "stream",
     "text": [
      "Reordering variables and trying again:\n"
     ]
    },
    {
     "name": "stderr",
     "output_type": "stream",
     "text": [
      "Warning message in leaps.setup(x, y, wt = wt, nbest = nbest, nvmax = nvmax, force.in = force.in, :\n",
      "\"1596  linear dependencies found\"\n"
     ]
    }
   ],
   "source": [
    "set.seed(1)\n",
    "valid.data<-vfold_cv(data.train,v=5)\n",
    "cv.errors<-sapply(valid.data$splits,fit_and_eval)\n",
    "mean.cv.errors<-rowMeans(cv.errors)"
   ]
  },
  {
   "cell_type": "code",
   "execution_count": 376,
   "metadata": {},
   "outputs": [
    {
     "name": "stdout",
     "output_type": "stream",
     "text": [
      "Best number of predictors is:  2"
     ]
    },
    {
     "data": {
      "text/html": [
       "23.2387881375772"
      ],
      "text/latex": [
       "23.2387881375772"
      ],
      "text/markdown": [
       "23.2387881375772"
      ],
      "text/plain": [
       "[1] 23.23879"
      ]
     },
     "metadata": {},
     "output_type": "display_data"
    },
    {
     "data": {
      "image/png": "[encoded data removed]",
      "text/plain": [
       "plot without title"
      ]
     },
     "metadata": {
      "image/png": {
       "height": 480,
       "width": 480
      }
     },
     "output_type": "display_data"
    }
   ],
   "source": [
    "plot(sqrt(mean.cv.errors), type='l', ylim=c(0,30), ylab='RMSE', xlab='number of pred')\n",
    "cv.min = which.min(mean.cv.errors)\n",
    "points(cv.min, sqrt(mean.cv.errors[cv.min]), col = \"red\", cex = 2, pch = 20)\n",
    "abline(sqrt(sd(data.train$VALENCE.PLEASANTNESS)), 0, lty = \"dashed\")\n",
    "cat('Best number of predictors is: ',cv.min)\n"
   ]
  },
  {
   "cell_type": "code",
   "execution_count": 368,
   "metadata": {},
   "outputs": [
    {
     "name": "stdout",
     "output_type": "stream",
     "text": [
      "[1] 23.34573\n"
     ]
    }
   ],
   "source": [
    "reg.test.pred<-predict.regsubsets(reg.fit.fwd,data.test, cv.min, formula=VALENCE.PLEASANTNESS ~ .)\n",
    "reg.test.RMSE<-sqrt(mean((data.test$VALENCE.PLEASANTNESS-reg.test.pred)^2))\n",
    "print(reg.test.RMSE)"
   ]
  },
  {
   "cell_type": "markdown",
   "metadata": {},
   "source": [
    "We get an RMSE of ~23.3 on the test set using cross-validation to choose the predictors. "
   ]
  },
  {
   "cell_type": "markdown",
   "metadata": {},
   "source": [
    "**Lasso regularization**"
   ]
  },
  {
   "cell_type": "code",
   "execution_count": 129,
   "metadata": {},
   "outputs": [
    {
     "data": {
      "image/png": "[encoded data removed]",
      "text/plain": [
       "plot without title"
      ]
     },
     "metadata": {
      "image/png": {
       "height": 480,
       "width": 480
      }
     },
     "output_type": "display_data"
    }
   ],
   "source": [
    "library(glmnet)\n",
    "set.seed(10)\n",
    "cv.lasso <- cv.glmnet(as.matrix(data.train[,-1]), data.train$VALENCE.PLEASANTNESS, alpha = 1)\n",
    "plot(cv.lasso)"
   ]
  },
  {
   "cell_type": "code",
   "execution_count": 135,
   "metadata": {},
   "outputs": [
    {
     "name": "stdout",
     "output_type": "stream",
     "text": [
      "test RMSE of lasso regularized model:  21.60518"
     ]
    }
   ],
   "source": [
    "best.lasso <- glmnet(as.matrix(data.train[,-1]),data.train$VALENCE.PLEASANTNESS, alpha = 1, lambda = cv.lasso$lambda.min)\n",
    "lasso.test.pred<-predict(best.lasso, as.matrix(data.test[,-1]))#,s=cv.lasso$lambda.min)\n",
    "lasso.test.RMSE<-sqrt(mean((data.test$VALENCE.PLEASANTNESS-lasso.test.pred)^2))\n",
    "cat('test RMSE of lasso regularized model: ',lasso.test.RMSE)"
   ]
  },
  {
   "cell_type": "code",
   "execution_count": 131,
   "metadata": {},
   "outputs": [
    {
     "name": "stdout",
     "output_type": "stream",
     "text": [
      "test RMSE of lasso regularized model with correlated predictors 21.73853"
     ]
    }
   ],
   "source": [
    "set.seed(1)\n",
    "cv.lasso.with.corr <- cv.glmnet(as.matrix(data.no.zeros[idx.train,-1]), data.no.zeros$VALENCE.PLEASANTNESS[idx.train], alpha = 1)\n",
    "best.lasso.with.corr <- glmnet(as.matrix(data.no.zeros[idx.train,-1]),data.no.zeros$VALENCE.PLEASANTNESS[idx.train], alpha = 1, lambda = cv.lasso.with.corr$lambda.min)\n",
    "lasso.with.corr.test.pred<-predict(best.lasso.with.corr, as.matrix(data.no.zeros[-idx.train,-1]),s=cv.lasso.with.corr$lambda.min)\n",
    "lasso.with.corr.test.RMSE<-sqrt(mean((data.no.zeros$VALENCE.PLEASANTNESS[-idx.train]-lasso.with.corr.test.pred)^2))\n",
    "cat('test RMSE of lasso regularized model with correlated predictors', lasso.with.corr.test.RMSE)"
   ]
  },
  {
   "cell_type": "markdown",
   "metadata": {},
   "source": [
    "We see that dropping more thant thousand of highly correlated predictors almost does not impact the final test error. We will continue to use the data without correlated predictors for computing efficiency."
   ]
  },
  {
   "cell_type": "markdown",
   "metadata": {},
   "source": [
    "We see also that lasso regularization is more efficient and optimized than cross-validation for the choice of predictors here."
   ]
  },
  {
   "cell_type": "markdown",
   "metadata": {},
   "source": [
    "### create predictions for kaggle test set with lasso regulation"
   ]
  },
  {
   "cell_type": "code",
   "execution_count": 132,
   "metadata": {},
   "outputs": [],
   "source": [
    "data.final.test.full<-read.csv(file.path(\"../data/test_data.csv\"))"
   ]
  },
  {
   "cell_type": "code",
   "execution_count": 133,
   "metadata": {},
   "outputs": [],
   "source": [
    "data.final.test.full$Intensity_high<-ifelse(data.final.test.full$Intensity=='high',1,0)\n",
    "data.final.test.full$Intensity_low<-ifelse(data.final.test.full$Intensity=='low',1,0)\n",
    "data.final.test.full<-data.final.test.full[,-which(colnames(data.final.test.full)=='Intensity')]\n",
    "data.final.test<-data.final.test.full[,colnames(data.final.test.full)%in%colnames(data)]          #mettre colonne au dessus avc c(...)"
   ]
  },
  {
   "cell_type": "code",
   "execution_count": 150,
   "metadata": {},
   "outputs": [],
   "source": [
    "lasso.fit.sub<-glmnet(as.matrix(data[,-1]),data$VALENCE.PLEASANTNESS, alpha=1, lambda=cv.lasso$lambda.min)\n",
    "lasso.test.pred<-predict(lasso.fit.sub, as.matrix(data.final.test))#s=cv.lasso$lambda.min)\n",
    "lasso.pred.sub<-cbind(which(lasso.test.pred==lasso.test.pred),lasso.test.pred)\n",
    "colnames(lasso.pred.sub)<-c(\"id\",\"VALENCE.PLEASANTNESS\")"
   ]
  },
  {
   "cell_type": "code",
   "execution_count": 159,
   "metadata": {},
   "outputs": [],
   "source": [
    "write.csv(lasso.pred.sub,\"../submissions/submission_lasso.csv\", row.names=F)"
   ]
  },
  {
   "cell_type": "markdown",
   "metadata": {},
   "source": [
    "We get a score of 22.8 on the kaggle test. This is bigger than expected from the data.test results we got, it may come from overfitting when we make the linear regression on the whole data, but we are not sure about this."
   ]
  },
  {
   "cell_type": "markdown",
   "metadata": {},
   "source": [
    "## 3. non-linear methods"
   ]
  },
  {
   "cell_type": "markdown",
   "metadata": {},
   "source": [
    "### neural network"
   ]
  },
  {
   "cell_type": "markdown",
   "metadata": {},
   "source": [
    "We will use the library `keras` to fit artificial neural networks on the data. First we need to explore the possibles neural network to fit meaning number of layers, number of neurons per layer, activation function of the neurons, wether or not regularize the network. These are all questions that do not have explicit answers !"
   ]
  },
  {
   "cell_type": "code",
   "execution_count": 153,
   "metadata": {},
   "outputs": [],
   "source": [
    "library(keras)"
   ]
  },
  {
   "cell_type": "code",
   "execution_count": 154,
   "metadata": {},
   "outputs": [],
   "source": [
    "data.train.x<-data.train[,-1]\n",
    "data.train.y<-data.train[,1]\n",
    "data.test.x<-data.test[,-1]\n",
    "data.test.y<-data.test[,1]"
   ]
  },
  {
   "cell_type": "markdown",
   "metadata": {},
   "source": [
    "We Define a function that compile and fit a neural network."
   ]
  },
  {
   "cell_type": "code",
   "execution_count": 155,
   "metadata": {},
   "outputs": [],
   "source": [
    "compile_and_fit<-function(nn,data.x=data.train.x, data.y=data.train.y, valid.split=NULL,\n",
    "                          valid.data=NULL, callbacks=NULL){\n",
    "    nn %>% compile(loss='mse', optimizer = 'adam')\n",
    "    nn %>% fit(as.matrix(data.x),\n",
    "                    data.y,\n",
    "                    validation_split=valid.split,\n",
    "                    validation_data=valid.data,\n",
    "                    epochs=100,\n",
    "                    callbacks=callbacks)\n",
    "    \n",
    "}"
   ]
  },
  {
   "cell_type": "markdown",
   "metadata": {},
   "source": [
    "Now we define functions to scale the data properly (taken from Lecture 10 notebook)"
   ]
  },
  {
   "cell_type": "code",
   "execution_count": 22,
   "metadata": {},
   "outputs": [],
   "source": [
    "get.scale <- function(scaled) {\n",
    "    if (\"scaled:center\" %in% names(attributes(scaled))) {\n",
    "        center <- attr(scaled, \"scaled:center\")\n",
    "    } else {\n",
    "        center <- rep(0, ncol(scaled))\n",
    "    }\n",
    "    if (\"scaled:scale\" %in% names(attributes(scaled))) {\n",
    "        list(center, attr(scaled, \"scaled:scale\"))\n",
    "    } else {\n",
    "        list(center, rep(1., length(center)))\n",
    "    }\n",
    "}\n",
    "data.x.scale <- function(x, scaled) {\n",
    "    s <- get.scale(scaled)\n",
    "    centered <- sweep(x, 2, s[[1]])\n",
    "    sweep(centered, 2, s[[2]], FUN = \"/\")\n",
    "}\n",
    "data.y.scale <- function(y, scaled) {\n",
    "    s <- get.scale(scaled)\n",
    "    (y - s[[1]])/s[[2]]\n",
    "}\n",
    "data.y.unscale <- function(y, scaled) {\n",
    "    s <- get.scale(scaled)\n",
    "    y * s[[2]] + s[[1]]\n",
    "}"
   ]
  },
  {
   "cell_type": "markdown",
   "metadata": {},
   "source": [
    "The following function replicate the same neural network evaluation with different seeds:"
   ]
  },
  {
   "cell_type": "code",
   "execution_count": 308,
   "metadata": {},
   "outputs": [],
   "source": [
    "keras.nn<-function(seed,callbacks=NULL){\n",
    "    tensorflow::tf$random$set_seed(seed) #alternative to use_session_with_seed() in my keras version.\n",
    "    nn<-keras_model_sequential()\n",
    "    nn %>%\n",
    "#        layer_dense(units=50, activation='relu', input_shape = c(1855), name = 'dense_input') %>%\n",
    " #       layer_dense(units=20, activation='relu', name = 'dense_1') %>%\n",
    "  #      layer_dense(units=10, activation='relu', name = 'dense_2') %>%\n",
    "   #     layer_dense(units=10, activation='relu', name = 'dense_3') %>%\n",
    "        layer_dense(units=900, activation='relu', input_shape = c(1855), name = 'dense_input') %>%\n",
    "        layer_dense(units=80, activation='relu', name = 'dense_2') %>%\n",
    "        layer_dropout(rate=.1)%>%\n",
    "        layer_dense(units=50, activation='relu', name = 'dense_3') %>%\n",
    "        layer_dropout(rate=.1)%>%\n",
    "        layer_dense(units=20, activation='relu', name = 'dense_4') %>%\n",
    "        layer_dense(units=10, activation='relu', name = 'dense_5') %>%\n",
    "        layer_dense(units=10, activation='relu', name = 'dense_6') %>%\n",
    "        layer_dense(units=1, activation='linear', name = 'dense_output')\n",
    "     \n",
    "    hist<-compile_and_fit(nn,valid.split=0.1,callbacks=callbacks)\n",
    "    ifelse(callbacks == NULL,,hist$params$epochs<-length(hist$metrics$loss))\n",
    "    plot(hist)                                           #doesn't plot...\n",
    "    evaluate(nn,as.matrix(data.test.x),data.test.y)\n",
    "}"
   ]
  },
  {
   "cell_type": "code",
   "execution_count": 309,
   "metadata": {},
   "outputs": [
    {
     "name": "stdout",
     "output_type": "stream",
     "text": [
      " RMSE mean on the test set over  10  different seeds:  22.21837"
     ]
    }
   ],
   "source": [
    "d<-10\n",
    "keras.res<-sapply(1:d,keras.nn)\n",
    "cat(' RMSE mean on the test set over ',d,' different seeds: ',sqrt(mean(keras.res)))"
   ]
  },
  {
   "cell_type": "code",
   "execution_count": 311,
   "metadata": {},
   "outputs": [
    {
     "name": "stdout",
     "output_type": "stream",
     "text": [
      " RMSE mean on the test set over  10  different seeds + early stopping :  22.93284"
     ]
    }
   ],
   "source": [
    "keras.res<-sapply(1:d,keras.nn,callbacks=callback_early_stopping(monitor='val_loss',patience = 20))\n",
    "cat(' RMSE mean on the test set over ',d,' different seeds + early stopping : ',sqrt(mean(keras.res)))"
   ]
  },
  {
   "cell_type": "markdown",
   "metadata": {},
   "source": [
    "We create our neural network:"
   ]
  },
  {
   "cell_type": "markdown",
   "metadata": {},
   "source": [
    "The neural network hyper-parameters are the best I have find after tunning them for a long time (see report for more details)"
   ]
  },
  {
   "cell_type": "markdown",
   "metadata": {},
   "source": [
    "the following function also evaluate the neural network but on scaled data:"
   ]
  },
  {
   "cell_type": "code",
   "execution_count": 58,
   "metadata": {},
   "outputs": [],
   "source": [
    "keras.nn.scale<-function(seed,valid.data=NULL,callbacks=NULL){\n",
    "    tensorflow::tf$random$set_seed(seed)\n",
    "    data.train.x.scaled<-scale(as.matrix(data.train.x), center=T,scale=T)\n",
    "    data.train.y.scaled<-scale(data.train.y, center=T,scale=T)\n",
    "    nn<-keras_model_sequential()\n",
    "    nn %>%\n",
    "        layer_dense(units=30, activation='relu', input_shape = c(1855), name = 'dense_input') %>%\n",
    "        layer_dense(units=20, activation='relu', name = 'dense_2') %>%\n",
    "        layer_dropout(rate=.1)%>%\n",
    "        layer_dense(units=20, activation='relu', name = 'dense_3') %>%\n",
    "        layer_dense(units=10, activation='relu', name = 'dense_4') %>%\n",
    "        layer_dense(units=1, activation='linear', name = 'dense_output')\n",
    "\n",
    "    hist<-compile_and_fit(nn,\n",
    "                        data.x=data.train.x.scaled,\n",
    "                        data.y=data.train.y.scaled,\n",
    "                        valid.split=0.1,\n",
    "                          #valid.data=list(data.x.scale(as.matrix(data.test.x),data.train.x.scaled),\n",
    "                         #data.y.scale(data.test.y,data.train.y.scaled)),\n",
    "                        callbacks=callbacks)\n",
    "    ifelse(callbacks == NULL,,hist$params$epochs<-length(hist$metrics$loss))\n",
    "    #if(seed==3)plot(hist)   #doesn't plot...\n",
    "    nn.pred<-predict(nn,as.matrix(data.x.scale(data.test.x,data.train.x.scaled)))\n",
    "    mean((data.y.unscale(nn.pred,data.train.y.scaled) - data.test.y)^2)\n",
    "}"
   ]
  },
  {
   "cell_type": "markdown",
   "metadata": {},
   "source": [
    "Now we evaluate the neural network on d different seeds, not scaling the data and then scaling it:"
   ]
  },
  {
   "cell_type": "code",
   "execution_count": 94,
   "metadata": {},
   "outputs": [
    {
     "name": "stdout",
     "output_type": "stream",
     "text": [
      " RMSE mean on the test set over  30  different seeds, using scaled data :  21.87072"
     ]
    }
   ],
   "source": [
    "keras.res.scale<-sapply(1:d,keras.nn.scale)\n",
    "cat(' RMSE mean on the test set over ',d,' different seeds, using scaled data : ',sqrt(mean(keras.res)))"
   ]
  },
  {
   "cell_type": "markdown",
   "metadata": {},
   "source": [
    "We can see that scaling the data or not gives the exact same results here."
   ]
  },
  {
   "cell_type": "markdown",
   "metadata": {},
   "source": [
    "We tried early stoppage when our networks began to be overfitting too quickly (when there was too much unneccessary layers/neurons). But this is not mandatory for the network design before."
   ]
  },
  {
   "cell_type": "markdown",
   "metadata": {},
   "source": [
    "But for the nn defined on top, which does not seem to overfit, applying early stoppage does not make sense."
   ]
  },
  {
   "cell_type": "markdown",
   "metadata": {},
   "source": [
    "Here we set the neural network with the best hyper-parameters we got to make the submission:"
   ]
  },
  {
   "cell_type": "code",
   "execution_count": 310,
   "metadata": {},
   "outputs": [
    {
     "name": "stdout",
     "output_type": "stream",
     "text": [
      "Model: \"sequential_828\"\n",
      "________________________________________________________________________________\n",
      "Layer (type)                        Output Shape                    Param #     \n",
      "================================================================================\n",
      "dense_input (Dense)                 (None, 900)                     1670400     \n",
      "________________________________________________________________________________\n",
      "dense_2 (Dense)                     (None, 80)                      72080       \n",
      "________________________________________________________________________________\n",
      "dropout_968 (Dropout)               (None, 80)                      0           \n",
      "________________________________________________________________________________\n",
      "dense_3 (Dense)                     (None, 40)                      3240        \n",
      "________________________________________________________________________________\n",
      "dense_4 (Dense)                     (None, 10)                      410         \n",
      "________________________________________________________________________________\n",
      "dense_5 (Dense)                     (None, 10)                      110         \n",
      "________________________________________________________________________________\n",
      "dense_6 (Dense)                     (None, 10)                      110         \n",
      "________________________________________________________________________________\n",
      "dense_output (Dense)                (None, 1)                       11          \n",
      "================================================================================\n",
      "Total params: 1,746,361\n",
      "Trainable params: 1,746,361\n",
      "Non-trainable params: 0\n",
      "________________________________________________________________________________\n"
     ]
    }
   ],
   "source": [
    "tensorflow::tf$random$set_seed(1)\n",
    "nnS<-keras_model_sequential()\n",
    "nnS%>%\n",
    "        layer_dense(units=900, activation='relu', input_shape = c(1855), name = 'dense_input') %>%\n",
    "        layer_dense(units=80, activation='relu', name = 'dense_2') %>%\n",
    "        layer_dropout(rate=.1)%>%\n",
    "        layer_dense(units=40, activation='relu', name = 'dense_3') %>%\n",
    "        layer_dense(units=10, activation='relu', name = 'dense_4') %>%\n",
    "        layer_dense(units=10, activation='relu', name = 'dense_5') %>%\n",
    "        layer_dense(units=10, activation='relu', name = 'dense_6') %>%\n",
    "        layer_dense(units=1, activation='linear', name = 'dense_output')\n",
    "summary(nnS)\n",
    "\n",
    "\n",
    "nnS %>% compile(loss='MSE',optimizer='adam')\n",
    "\n",
    "nnS.fitted<-nnS %>% fit(as.matrix(data[,-1]),\n",
    "                    data[,1],\n",
    "                    epochs=100,\n",
    "                    validation_split=0.1,\n",
    "                    callbacks=callback_early_stopping(monitor='val_loss',patience = 20)    \n",
    "                    )"
   ]
  },
  {
   "cell_type": "code",
   "execution_count": 285,
   "metadata": {},
   "outputs": [
    {
     "name": "stderr",
     "output_type": "stream",
     "text": [
      "`geom_smooth()` using formula 'y ~ x'\n",
      "\n"
     ]
    },
    {
     "data": {
      "image/png": "[encoded data removed]",
      "text/plain": [
       "plot without title"
      ]
     },
     "metadata": {
      "image/png": {
       "height": 480,
       "width": 480
      }
     },
     "output_type": "display_data"
    }
   ],
   "source": [
    "nnS.fitted$params$epochs<-length(nnS.fitted$metrics$loss)\n",
    "plot(nnS.fitted)"
   ]
  },
  {
   "cell_type": "markdown",
   "metadata": {},
   "source": [
    "Making sure that the error seems ok using a small validation set."
   ]
  },
  {
   "cell_type": "code",
   "execution_count": 286,
   "metadata": {},
   "outputs": [],
   "source": [
    "pred<-predict(nnS,as.matrix(data.final.test))"
   ]
  },
  {
   "cell_type": "code",
   "execution_count": 287,
   "metadata": {},
   "outputs": [
    {
     "data": {
      "text/html": [
       "<table>\n",
       "<caption>A matrix: 6 × 1 of type dbl</caption>\n",
       "<tbody>\n",
       "\t<tr><td>42.86659</td></tr>\n",
       "\t<tr><td>67.91042</td></tr>\n",
       "\t<tr><td>41.07429</td></tr>\n",
       "\t<tr><td>46.90241</td></tr>\n",
       "\t<tr><td>25.47595</td></tr>\n",
       "\t<tr><td>52.08057</td></tr>\n",
       "</tbody>\n",
       "</table>\n"
      ],
      "text/latex": [
       "A matrix: 6 × 1 of type dbl\n",
       "\\begin{tabular}{l}\n",
       "\t 42.86659\\\\\n",
       "\t 67.91042\\\\\n",
       "\t 41.07429\\\\\n",
       "\t 46.90241\\\\\n",
       "\t 25.47595\\\\\n",
       "\t 52.08057\\\\\n",
       "\\end{tabular}\n"
      ],
      "text/markdown": [
       "\n",
       "A matrix: 6 × 1 of type dbl\n",
       "\n",
       "| 42.86659 |\n",
       "| 67.91042 |\n",
       "| 41.07429 |\n",
       "| 46.90241 |\n",
       "| 25.47595 |\n",
       "| 52.08057 |\n",
       "\n"
      ],
      "text/plain": [
       "     [,1]    \n",
       "[1,] 42.86659\n",
       "[2,] 67.91042\n",
       "[3,] 41.07429\n",
       "[4,] 46.90241\n",
       "[5,] 25.47595\n",
       "[6,] 52.08057"
      ]
     },
     "metadata": {},
     "output_type": "display_data"
    }
   ],
   "source": [
    "head(pred)"
   ]
  },
  {
   "cell_type": "code",
   "execution_count": 288,
   "metadata": {},
   "outputs": [],
   "source": [
    "pred.sub<-cbind(which(pred==pred),pred)\n",
    "colnames(pred.sub)<-c(\"id\",\"VALENCE.PLEASANTNESS\")"
   ]
  },
  {
   "cell_type": "code",
   "execution_count": 283,
   "metadata": {},
   "outputs": [],
   "source": [
    "write.csv(pred.sub,\"../submissions/submisson_nn_60-60-d01-40-10-10-10-1_new_try.csv\", row.names=F)"
   ]
  },
  {
   "cell_type": "markdown",
   "metadata": {},
   "source": [
    "### boosting"
   ]
  },
  {
   "cell_type": "markdown",
   "metadata": {},
   "source": [
    "Boosting is we think the other method being likely to work, and we are not going to try to apply simple classification trees or random forests, because boosting combine these methods and therefore will be more efficient."
   ]
  },
  {
   "cell_type": "code",
   "execution_count": 99,
   "metadata": {},
   "outputs": [],
   "source": [
    "library(xgboost)"
   ]
  },
  {
   "cell_type": "markdown",
   "metadata": {},
   "source": [
    "The following function build and evaluate a gradient boosting method with given hyper-parameters:"
   ]
  },
  {
   "cell_type": "code",
   "execution_count": 100,
   "metadata": {},
   "outputs": [],
   "source": [
    "boosting<-function(d,B,eta){\n",
    "    boost<-xgboost(as.matrix(data.train.x),label = data.train.y,\n",
    "                objective=\"reg:squarederror\",\n",
    "                eta=eta,\n",
    "                max_depth=d,\n",
    "                nrounds=B,\n",
    "                verbose=0)\n",
    "    boost.train.pred<-predict(boost,as.matrix(data.train.x))\n",
    "    boost.test.pred<-predict(boost,as.matrix(data.test.x))\n",
    "    boost.train.RMSE<-sqrt(mean((data.train.y-boost.train.pred)^2))\n",
    "    boost.test.RMSE<-sqrt(mean((data.test.y-boost.test.pred)^2))\n",
    "    #cat('for eta, d and B respectively ',eta,' ',d,' ',B ,'\\n',\n",
    "    #   \"train RMSE: \", boost.train.RMSE,\"\\n\", \"test RMSE: \", boost.test.RMSE,'\\n \\n')\n",
    "    data.frame(train.RMSE=boost.train.RMSE,testRMSE=boost.test.RMSE)\n",
    "}"
   ]
  },
  {
   "cell_type": "markdown",
   "metadata": {},
   "source": [
    "First we look at the impact of the nrounds hyper-parameter (B) with a max_depth chosen of 4."
   ]
  },
  {
   "cell_type": "code",
   "execution_count": 101,
   "metadata": {},
   "outputs": [],
   "source": [
    "B_l<-c(100,500,1000,2000,3000,4000,5000)\n",
    "df.B<-sapply(B_l,boosting,d=4,eta=0.001)"
   ]
  },
  {
   "cell_type": "code",
   "execution_count": 111,
   "metadata": {},
   "outputs": [
    {
     "name": "stdout",
     "output_type": "stream",
     "text": [
      "the smallest test error is obtained with B =  4000  and is :  22.87079"
     ]
    },
    {
     "data": {
      "image/png": "[encoded data removed]",
      "text/plain": [
       "plot without title"
      ]
     },
     "metadata": {
      "image/png": {
       "height": 480,
       "width": 480
      }
     },
     "output_type": "display_data"
    }
   ],
   "source": [
    "plot(B_l,df.B[1,],type = 'b', col='blue',ylim=c(0,50),xlab='max_depth', ylab='RMSE')\n",
    "lines(B_l,df.B[2,],type='b',col='red')\n",
    "B.min<-which.min(df.B[2,])\n",
    "B.min.test.RMSE<-as.numeric(df.B[2,B.min])\n",
    "points(B_l[B.min],df.B[2,B.min], col='red', pch=20,cex=3)\n",
    "legend(\"top\",legend=c('training error', 'test error'),col=c('blue','red'),lty=1)\n",
    "cat('the smallest test error is obtained with B = ', B_l[B.min], ' and is : ',B.min.test.RMSE)"
   ]
  },
  {
   "cell_type": "code",
   "execution_count": 113,
   "metadata": {},
   "outputs": [],
   "source": [
    "d_l<-1:8 #put 1:5, bc too long...\n",
    "df.d<-sapply(d_l,boosting,B=B_l[B.min],eta=0.001)"
   ]
  },
  {
   "cell_type": "code",
   "execution_count": 114,
   "metadata": {},
   "outputs": [
    {
     "name": "stdout",
     "output_type": "stream",
     "text": [
      "the smallest test error is obtained with d =  2  and is :  22.63047"
     ]
    },
    {
     "data": {
      "image/png": "[encoded data removed]",
      "text/plain": [
       "plot without title"
      ]
     },
     "metadata": {
      "image/png": {
       "height": 480,
       "width": 480
      }
     },
     "output_type": "display_data"
    }
   ],
   "source": [
    "plot(d_l,df.d[1,],type = 'b', col='blue',ylim=c(0,50),xlab='max_depth', ylab='RMSE')\n",
    "lines(d_l,df.d[2,],type='b',col='red')\n",
    "d.min<-which.min(df.d[2,])\n",
    "d.min.test.RMSE<-as.numeric(df.d[2,d.min])\n",
    "points(d.min,df.d[2,d.min], col='red', pch=20,cex=3)\n",
    "legend(\"top\",legend=c('training error', 'test error'),col=c('blue','red'),lty=1)\n",
    "cat('the smallest test error is obtained with d = ', d.min, ' and is : ',d.min.test.RMSE)"
   ]
  },
  {
   "cell_type": "markdown",
   "metadata": {},
   "source": [
    "The RMSE of 22.6 is not as good as the RMSE we got from neuron network. But we can get some really interesting information from the `importance` function from xgboost, giving us the predictors having the biggest impact on the result (from the gradient boosting method point of view):"
   ]
  },
  {
   "cell_type": "code",
   "execution_count": 118,
   "metadata": {},
   "outputs": [
    {
     "data": {
      "image/png": "[encoded data removed]",
      "text/plain": [
       "plot without title"
      ]
     },
     "metadata": {
      "image/png": {
       "height": 480,
       "width": 480
      }
     },
     "output_type": "display_data"
    }
   ],
   "source": [
    "best.boost<-xgboost(as.matrix(data.train.x),label = data.train.y,\n",
    "                objective=\"reg:squarederror\",\n",
    "                eta=0.001,\n",
    "                max_depth=2,\n",
    "                nrounds=1000,\n",
    "                verbose=0)\n",
    "xgb.plot.importance(xgb.importance(model=best.boost)[1:10])"
   ]
  },
  {
   "cell_type": "markdown",
   "metadata": {},
   "source": [
    "We have chosen here a small B compare to the \"best\" one we got, to do not get to computationnaly expensive, here we just want to have an overview of the most important predictors."
   ]
  },
  {
   "cell_type": "markdown",
   "metadata": {},
   "source": [
    "### random forest"
   ]
  },
  {
   "cell_type": "markdown",
   "metadata": {},
   "source": [
    "We wanted to check if the random forest method may be adapted to this data, but since random forest and boosting are somewhat close methods we may obtain a similarly precise model. We will not try baggin since it is basically a random forest fitted every time on all predictors."
   ]
  },
  {
   "cell_type": "code",
   "execution_count": 127,
   "metadata": {},
   "outputs": [],
   "source": [
    "library(randomForest)"
   ]
  },
  {
   "cell_type": "code",
   "execution_count": 128,
   "metadata": {},
   "outputs": [
    {
     "name": "stdout",
     "output_type": "stream",
     "text": [
      "test RMSE of random forest method =  22.68452"
     ]
    }
   ],
   "source": [
    "set.seed(1)\n",
    "rforest<-randomForest(VALENCE.PLEASANTNESS~., data=data.train)\n",
    "rf.pred<-predict(rforest,data.test)\n",
    "rforest.test.RMSE<-sqrt(mean((rf.pred - data.test$VALENCE.PLEASANTNESS)^2))\n",
    "cat('test RMSE of random forest method = ', rforest.test.RMSE)"
   ]
  },
  {
   "cell_type": "markdown",
   "metadata": {},
   "source": [
    "Also not bad RMSE, (like predicted it is close to the error we got from boosting), but the neural networks definitely seems to achieve little bit more accurate predictions for this data set."
   ]
  }
 ],
 "metadata": {
  "kernelspec": {
   "display_name": "R",
   "language": "R",
   "name": "ir"
  },
  "language_info": {
   "codemirror_mode": "r",
   "file_extension": ".r",
   "mimetype": "text/x-r-source",
   "name": "R",
   "pygments_lexer": "r",
   "version": "4.0.3"
  }
 },
 "nbformat": 4,
 "nbformat_minor": 4
}
